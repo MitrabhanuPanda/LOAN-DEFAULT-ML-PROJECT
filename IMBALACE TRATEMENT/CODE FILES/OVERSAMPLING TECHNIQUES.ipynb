{
 "cells": [
  {
   "cell_type": "code",
   "execution_count": 1,
   "id": "a7150cc5",
   "metadata": {},
   "outputs": [],
   "source": [
    "import pandas as pd\n",
    "import numpy as np\n",
    "from sklearn.ensemble import RandomForestClassifier\n",
    "from sklearn.linear_model import LogisticRegression\n",
    "from sklearn.model_selection import train_test_split\n",
    "from sklearn.metrics import precision_recall_curve, precision_score, recall_score, f1_score, auc\n",
    "from sklearn.utils import resample"
   ]
  },
  {
   "cell_type": "code",
   "execution_count": 2,
   "id": "404476af",
   "metadata": {},
   "outputs": [
    {
     "data": {
      "text/html": [
       "<div>\n",
       "<style scoped>\n",
       "    .dataframe tbody tr th:only-of-type {\n",
       "        vertical-align: middle;\n",
       "    }\n",
       "\n",
       "    .dataframe tbody tr th {\n",
       "        vertical-align: top;\n",
       "    }\n",
       "\n",
       "    .dataframe thead th {\n",
       "        text-align: right;\n",
       "    }\n",
       "</style>\n",
       "<table border=\"1\" class=\"dataframe\">\n",
       "  <thead>\n",
       "    <tr style=\"text-align: right;\">\n",
       "      <th></th>\n",
       "      <th>person_age</th>\n",
       "      <th>loan_percent_income</th>\n",
       "      <th>loan_int_rate</th>\n",
       "      <th>person_home_ownership</th>\n",
       "      <th>person_income</th>\n",
       "      <th>loan_status</th>\n",
       "    </tr>\n",
       "  </thead>\n",
       "  <tbody>\n",
       "    <tr>\n",
       "      <th>0</th>\n",
       "      <td>22</td>\n",
       "      <td>0.15</td>\n",
       "      <td>16.02</td>\n",
       "      <td>0</td>\n",
       "      <td>59000</td>\n",
       "      <td>1</td>\n",
       "    </tr>\n",
       "    <tr>\n",
       "      <th>1</th>\n",
       "      <td>21</td>\n",
       "      <td>0.10</td>\n",
       "      <td>11.14</td>\n",
       "      <td>2</td>\n",
       "      <td>9600</td>\n",
       "      <td>0</td>\n",
       "    </tr>\n",
       "    <tr>\n",
       "      <th>2</th>\n",
       "      <td>25</td>\n",
       "      <td>0.15</td>\n",
       "      <td>12.87</td>\n",
       "      <td>1</td>\n",
       "      <td>9600</td>\n",
       "      <td>1</td>\n",
       "    </tr>\n",
       "    <tr>\n",
       "      <th>3</th>\n",
       "      <td>23</td>\n",
       "      <td>0.15</td>\n",
       "      <td>15.23</td>\n",
       "      <td>0</td>\n",
       "      <td>65500</td>\n",
       "      <td>1</td>\n",
       "    </tr>\n",
       "    <tr>\n",
       "      <th>4</th>\n",
       "      <td>24</td>\n",
       "      <td>0.15</td>\n",
       "      <td>14.27</td>\n",
       "      <td>0</td>\n",
       "      <td>54400</td>\n",
       "      <td>1</td>\n",
       "    </tr>\n",
       "  </tbody>\n",
       "</table>\n",
       "</div>"
      ],
      "text/plain": [
       "   person_age  loan_percent_income  loan_int_rate  person_home_ownership  \\\n",
       "0          22                 0.15          16.02                      0   \n",
       "1          21                 0.10          11.14                      2   \n",
       "2          25                 0.15          12.87                      1   \n",
       "3          23                 0.15          15.23                      0   \n",
       "4          24                 0.15          14.27                      0   \n",
       "\n",
       "   person_income  loan_status  \n",
       "0          59000            1  \n",
       "1           9600            0  \n",
       "2           9600            1  \n",
       "3          65500            1  \n",
       "4          54400            1  "
      ]
     },
     "execution_count": 2,
     "metadata": {},
     "output_type": "execute_result"
    }
   ],
   "source": [
    "df=pd.read_csv(r\"D:\\DV ANALYTIC\\TOPICS\\4. DATA MINING\\ML PROJECT\\1. BANKING\\Bank Domain\\final_data.csv\")\n",
    "df.head()"
   ]
  },
  {
   "cell_type": "code",
   "execution_count": 3,
   "id": "43319ce8",
   "metadata": {},
   "outputs": [
    {
     "data": {
      "text/plain": [
       "0    0.781836\n",
       "1    0.218164\n",
       "Name: loan_status, dtype: float64"
      ]
     },
     "execution_count": 3,
     "metadata": {},
     "output_type": "execute_result"
    }
   ],
   "source": [
    "df[\"loan_status\"].value_counts(normalize=True)"
   ]
  },
  {
   "cell_type": "code",
   "execution_count": 4,
   "id": "af0d43f3",
   "metadata": {},
   "outputs": [],
   "source": [
    "data_majority = df[df[\"loan_status\"] == 0]\n",
    "data_minority = df[df[\"loan_status\"] == 1]"
   ]
  },
  {
   "cell_type": "markdown",
   "id": "024fab72",
   "metadata": {},
   "source": [
    "### <font color=\"orange\">RATIO=1:1<font color/>"
   ]
  },
  {
   "cell_type": "code",
   "execution_count": 6,
   "id": "b8bbb087",
   "metadata": {},
   "outputs": [
    {
     "name": "stdout",
     "output_type": "stream",
     "text": [
      "1    25473\n",
      "0    25473\n",
      "Name: loan_status, dtype: int64\n"
     ]
    }
   ],
   "source": [
    "ratio=1\n",
    "# Calculate the new size for the minority class\n",
    "minority_size_ratio = len(data_majority) // ratio\n",
    "\n",
    "# Oversample the minority class\n",
    "data_minority_oversampled_ratio = resample(data_minority, \n",
    "                                            replace=True,      # Sample with replacement\n",
    "                                            n_samples=minority_size_ratio,  # selected ratio\n",
    "                                            random_state=42) \n",
    "\n",
    "# Combine the oversampled minority class with the majority class\n",
    "data_balanced_over = pd.concat([data_majority, data_minority_oversampled_ratio])\n",
    "\n",
    "# Shuffle the dataset to mix majority and minority examples\n",
    "data_balanced_over = data_balanced_over.sample(frac=1, random_state=42).reset_index(drop=True)\n",
    "\n",
    "# Checking the new class distribution\n",
    "print(data_balanced_over['loan_status'].value_counts())"
   ]
  },
  {
   "cell_type": "code",
   "execution_count": 7,
   "id": "a55a2700",
   "metadata": {},
   "outputs": [],
   "source": [
    "data_balanced_1_1=data_balanced_over.copy()"
   ]
  },
  {
   "cell_type": "code",
   "execution_count": 10,
   "id": "5e01a74f",
   "metadata": {},
   "outputs": [
    {
     "name": "stderr",
     "output_type": "stream",
     "text": [
      "C:\\Users\\mitra\\anaconda3\\lib\\site-packages\\sklearn\\metrics\\_classification.py:1318: UndefinedMetricWarning: Precision is ill-defined and being set to 0.0 due to no predicted samples. Use `zero_division` parameter to control this behavior.\n",
      "  _warn_prf(average, modifier, msg_start, len(result))\n"
     ]
    }
   ],
   "source": [
    "X = data_balanced_1_1.drop(columns=[\"loan_status\"])\n",
    "y = data_balanced_1_1['loan_status']\n",
    "\n",
    "X_train, X_test, y_train, y_test = train_test_split(X, y, test_size=0.2, random_state=42)\n",
    "\n",
    "rf_classifier = LogisticRegression(random_state=40)\n",
    "rf_classifier.fit(X_train, y_train)\n",
    "\n",
    "y_probs = rf_classifier.predict_proba(X_test)[:, 1]\n",
    "\n",
    "threshold_range = np.arange(0.1, 1.1, 0.1)\n",
    "results = {}\n",
    "\n",
    "for threshold in threshold_range:\n",
    "    y_pred_threshold = (y_probs >= threshold).astype(int)  # Apply threshold to probabilities\n",
    "    \n",
    "    precision = precision_score(y_test, y_pred_threshold)\n",
    "    recall = recall_score(y_test, y_pred_threshold)\n",
    "    f1 = f1_score(y_test, y_pred_threshold)\n",
    "    \n",
    "    # Calculate Precision-Recall AUC\n",
    "    precision_vals, recall_vals, _ = precision_recall_curve(y_test, y_probs)\n",
    "    pr_auc = auc(recall_vals, precision_vals)\n",
    "    \n",
    "    # Store the results for this threshold\n",
    "    results[threshold] = {\n",
    "        'Threshold':threshold,\n",
    "        'Precision': precision,\n",
    "        'Recall': recall,\n",
    "        'F1 Score': f1,\n",
    "        'PR AUC': pr_auc\n",
    "    }"
   ]
  },
  {
   "cell_type": "code",
   "execution_count": 11,
   "id": "0bc7c602",
   "metadata": {},
   "outputs": [
    {
     "name": "stdout",
     "output_type": "stream",
     "text": [
      "DataFrame exported to 'C:\\Users\\mitra\\OneDrive\\Desktop\\IMBALACE TRATEMENT\\OVERSAMPLING TECHNIQUE\\over_output_1_1.xlsx'\n"
     ]
    }
   ],
   "source": [
    "file_path = (r\"C:\\Users\\mitra\\OneDrive\\Desktop\\IMBALACE TRATEMENT\\OVERSAMPLING TECHNIQUE\\over_output_1_1.xlsx\")\n",
    "df_results=pd.DataFrame.from_dict(results, orient='index')\n",
    "\n",
    "# Export to Excel\n",
    "df_results.to_excel(file_path, index=False)\n",
    "print(f\"DataFrame exported to '{file_path}'\")"
   ]
  },
  {
   "cell_type": "markdown",
   "id": "7a17d4a1",
   "metadata": {},
   "source": [
    "### <font color=\"orange\">RATIO=1:2<font color/>"
   ]
  },
  {
   "cell_type": "code",
   "execution_count": 12,
   "id": "1201d58a",
   "metadata": {},
   "outputs": [
    {
     "name": "stdout",
     "output_type": "stream",
     "text": [
      "0    25473\n",
      "1    12736\n",
      "Name: loan_status, dtype: int64\n"
     ]
    }
   ],
   "source": [
    "ratio=2\n",
    "# Calculate the new size for the minority class\n",
    "minority_size_ratio = len(data_majority) // ratio\n",
    "\n",
    "# Oversample the minority class\n",
    "data_minority_oversampled_ratio = resample(data_minority, \n",
    "                                            replace=True,      # Sample with replacement\n",
    "                                            n_samples=minority_size_ratio,  # selected ratio\n",
    "                                            random_state=42) \n",
    "\n",
    "# Combine the oversampled minority class with the majority class\n",
    "data_balanced_over = pd.concat([data_majority, data_minority_oversampled_ratio])\n",
    "\n",
    "# Shuffle the dataset to mix majority and minority examples\n",
    "data_balanced_over = data_balanced_over.sample(frac=1, random_state=42).reset_index(drop=True)\n",
    "\n",
    "# Checking the new class distribution\n",
    "print(data_balanced_over['loan_status'].value_counts())"
   ]
  },
  {
   "cell_type": "code",
   "execution_count": 13,
   "id": "0e584a93",
   "metadata": {},
   "outputs": [],
   "source": [
    "data_balanced_1_2=data_balanced_over.copy()"
   ]
  },
  {
   "cell_type": "code",
   "execution_count": 14,
   "id": "c6103bf5",
   "metadata": {},
   "outputs": [
    {
     "name": "stderr",
     "output_type": "stream",
     "text": [
      "C:\\Users\\mitra\\anaconda3\\lib\\site-packages\\sklearn\\metrics\\_classification.py:1318: UndefinedMetricWarning: Precision is ill-defined and being set to 0.0 due to no predicted samples. Use `zero_division` parameter to control this behavior.\n",
      "  _warn_prf(average, modifier, msg_start, len(result))\n"
     ]
    }
   ],
   "source": [
    "X = data_balanced_1_2.drop(columns=[\"loan_status\"])\n",
    "y = data_balanced_1_2['loan_status']\n",
    "\n",
    "X_train, X_test, y_train, y_test = train_test_split(X, y, test_size=0.2, random_state=42)\n",
    "\n",
    "rf_classifier = LogisticRegression(random_state=40)\n",
    "rf_classifier.fit(X_train, y_train)\n",
    "\n",
    "y_probs = rf_classifier.predict_proba(X_test)[:, 1]\n",
    "\n",
    "threshold_range = np.arange(0.1, 1.1, 0.1)\n",
    "results = {}\n",
    "\n",
    "for threshold in threshold_range:\n",
    "    y_pred_threshold = (y_probs >= threshold).astype(int)  # Apply threshold to probabilities\n",
    "    \n",
    "    precision = precision_score(y_test, y_pred_threshold)\n",
    "    recall = recall_score(y_test, y_pred_threshold)\n",
    "    f1 = f1_score(y_test, y_pred_threshold)\n",
    "    \n",
    "    # Calculate Precision-Recall AUC\n",
    "    precision_vals, recall_vals, _ = precision_recall_curve(y_test, y_probs)\n",
    "    pr_auc = auc(recall_vals, precision_vals)\n",
    "    \n",
    "    # Store the results for this threshold\n",
    "    results[threshold] = {\n",
    "        'Threshold':threshold,\n",
    "        'Precision': precision,\n",
    "        'Recall': recall,\n",
    "        'F1 Score': f1,\n",
    "        'PR AUC': pr_auc\n",
    "    }"
   ]
  },
  {
   "cell_type": "code",
   "execution_count": 15,
   "id": "6260788d",
   "metadata": {},
   "outputs": [
    {
     "name": "stdout",
     "output_type": "stream",
     "text": [
      "DataFrame exported to 'C:\\Users\\mitra\\OneDrive\\Desktop\\IMBALACE TRATEMENT\\OVERSAMPLING TECHNIQUE\\over_output_1_2.xlsx'\n"
     ]
    }
   ],
   "source": [
    "file_path = (r\"C:\\Users\\mitra\\OneDrive\\Desktop\\IMBALACE TRATEMENT\\OVERSAMPLING TECHNIQUE\\over_output_1_2.xlsx\")\n",
    "df_results=pd.DataFrame.from_dict(results, orient='index')\n",
    "\n",
    "# Export to Excel\n",
    "df_results.to_excel(file_path, index=False)\n",
    "print(f\"DataFrame exported to '{file_path}'\")"
   ]
  },
  {
   "cell_type": "markdown",
   "id": "29137ce2",
   "metadata": {},
   "source": [
    "### <font color=\"orange\">RATIO=1:3<font color/>"
   ]
  },
  {
   "cell_type": "code",
   "execution_count": 16,
   "id": "c284c076",
   "metadata": {},
   "outputs": [
    {
     "name": "stdout",
     "output_type": "stream",
     "text": [
      "0    25473\n",
      "1     8491\n",
      "Name: loan_status, dtype: int64\n"
     ]
    }
   ],
   "source": [
    "ratio=3\n",
    "# Calculate the new size for the minority class\n",
    "minority_size_ratio = len(data_majority) // ratio\n",
    "\n",
    "# Oversample the minority class\n",
    "data_minority_oversampled_ratio = resample(data_minority, \n",
    "                                            replace=True,      # Sample with replacement\n",
    "                                            n_samples=minority_size_ratio,  # selected ratio\n",
    "                                            random_state=42) \n",
    "\n",
    "# Combine the oversampled minority class with the majority class\n",
    "data_balanced_over = pd.concat([data_majority, data_minority_oversampled_ratio])\n",
    "\n",
    "# Shuffle the dataset to mix majority and minority examples\n",
    "data_balanced_over = data_balanced_over.sample(frac=1, random_state=42).reset_index(drop=True)\n",
    "\n",
    "# Checking the new class distribution\n",
    "print(data_balanced_over['loan_status'].value_counts())"
   ]
  },
  {
   "cell_type": "code",
   "execution_count": 17,
   "id": "5c16b866",
   "metadata": {},
   "outputs": [],
   "source": [
    "data_balanced_1_3=data_balanced_over.copy()"
   ]
  },
  {
   "cell_type": "code",
   "execution_count": 18,
   "id": "36f984bf",
   "metadata": {},
   "outputs": [
    {
     "name": "stderr",
     "output_type": "stream",
     "text": [
      "C:\\Users\\mitra\\anaconda3\\lib\\site-packages\\sklearn\\metrics\\_classification.py:1318: UndefinedMetricWarning: Precision is ill-defined and being set to 0.0 due to no predicted samples. Use `zero_division` parameter to control this behavior.\n",
      "  _warn_prf(average, modifier, msg_start, len(result))\n"
     ]
    }
   ],
   "source": [
    "X = data_balanced_1_3.drop(columns=[\"loan_status\"])\n",
    "y = data_balanced_1_3['loan_status']\n",
    "\n",
    "X_train, X_test, y_train, y_test = train_test_split(X, y, test_size=0.2, random_state=42)\n",
    "\n",
    "rf_classifier = LogisticRegression(random_state=40)\n",
    "rf_classifier.fit(X_train, y_train)\n",
    "\n",
    "y_probs = rf_classifier.predict_proba(X_test)[:, 1]\n",
    "\n",
    "threshold_range = np.arange(0.1, 1.1, 0.1)\n",
    "results = {}\n",
    "\n",
    "for threshold in threshold_range:\n",
    "    y_pred_threshold = (y_probs >= threshold).astype(int)  # Apply threshold to probabilities\n",
    "    \n",
    "    precision = precision_score(y_test, y_pred_threshold)\n",
    "    recall = recall_score(y_test, y_pred_threshold)\n",
    "    f1 = f1_score(y_test, y_pred_threshold)\n",
    "    \n",
    "    # Calculate Precision-Recall AUC\n",
    "    precision_vals, recall_vals, _ = precision_recall_curve(y_test, y_probs)\n",
    "    pr_auc = auc(recall_vals, precision_vals)\n",
    "    \n",
    "    # Store the results for this threshold\n",
    "    results[threshold] = {\n",
    "        'Threshold':threshold,\n",
    "        'Precision': precision,\n",
    "        'Recall': recall,\n",
    "        'F1 Score': f1,\n",
    "        'PR AUC': pr_auc\n",
    "    }"
   ]
  },
  {
   "cell_type": "code",
   "execution_count": 19,
   "id": "510c44aa",
   "metadata": {},
   "outputs": [
    {
     "name": "stdout",
     "output_type": "stream",
     "text": [
      "DataFrame exported to 'C:\\Users\\mitra\\OneDrive\\Desktop\\IMBALACE TRATEMENT\\OVERSAMPLING TECHNIQUE\\over_output_1_3.xlsx'\n"
     ]
    }
   ],
   "source": [
    "file_path = (r\"C:\\Users\\mitra\\OneDrive\\Desktop\\IMBALACE TRATEMENT\\OVERSAMPLING TECHNIQUE\\over_output_1_3.xlsx\")\n",
    "df_results=pd.DataFrame.from_dict(results, orient='index')\n",
    "\n",
    "# Export to Excel\n",
    "df_results.to_excel(file_path, index=False)\n",
    "print(f\"DataFrame exported to '{file_path}'\")"
   ]
  },
  {
   "cell_type": "markdown",
   "id": "37968426",
   "metadata": {},
   "source": [
    "### <font color=\"orange\">RATIO=1:4<font color/>"
   ]
  },
  {
   "cell_type": "code",
   "execution_count": 20,
   "id": "b4e886da",
   "metadata": {},
   "outputs": [
    {
     "name": "stdout",
     "output_type": "stream",
     "text": [
      "0    25473\n",
      "1     6368\n",
      "Name: loan_status, dtype: int64\n"
     ]
    }
   ],
   "source": [
    "ratio=4\n",
    "# Calculate the new size for the minority class\n",
    "minority_size_ratio = len(data_majority) // ratio\n",
    "\n",
    "# Oversample the minority class\n",
    "data_minority_oversampled_ratio = resample(data_minority, \n",
    "                                            replace=True,      # Sample with replacement\n",
    "                                            n_samples=minority_size_ratio,  # selected ratio\n",
    "                                            random_state=42) \n",
    "\n",
    "# Combine the oversampled minority class with the majority class\n",
    "data_balanced_over = pd.concat([data_majority, data_minority_oversampled_ratio])\n",
    "\n",
    "# Shuffle the dataset to mix majority and minority examples\n",
    "data_balanced_over = data_balanced_over.sample(frac=1, random_state=42).reset_index(drop=True)\n",
    "\n",
    "# Checking the new class distribution\n",
    "print(data_balanced_over['loan_status'].value_counts())"
   ]
  },
  {
   "cell_type": "code",
   "execution_count": 21,
   "id": "40c68d88",
   "metadata": {},
   "outputs": [],
   "source": [
    "data_balanced_1_4=data_balanced_over.copy()"
   ]
  },
  {
   "cell_type": "code",
   "execution_count": 22,
   "id": "78741c0d",
   "metadata": {},
   "outputs": [
    {
     "name": "stderr",
     "output_type": "stream",
     "text": [
      "C:\\Users\\mitra\\anaconda3\\lib\\site-packages\\sklearn\\metrics\\_classification.py:1318: UndefinedMetricWarning: Precision is ill-defined and being set to 0.0 due to no predicted samples. Use `zero_division` parameter to control this behavior.\n",
      "  _warn_prf(average, modifier, msg_start, len(result))\n",
      "C:\\Users\\mitra\\anaconda3\\lib\\site-packages\\sklearn\\metrics\\_classification.py:1318: UndefinedMetricWarning: Precision is ill-defined and being set to 0.0 due to no predicted samples. Use `zero_division` parameter to control this behavior.\n",
      "  _warn_prf(average, modifier, msg_start, len(result))\n",
      "C:\\Users\\mitra\\anaconda3\\lib\\site-packages\\sklearn\\metrics\\_classification.py:1318: UndefinedMetricWarning: Precision is ill-defined and being set to 0.0 due to no predicted samples. Use `zero_division` parameter to control this behavior.\n",
      "  _warn_prf(average, modifier, msg_start, len(result))\n",
      "C:\\Users\\mitra\\anaconda3\\lib\\site-packages\\sklearn\\metrics\\_classification.py:1318: UndefinedMetricWarning: Precision is ill-defined and being set to 0.0 due to no predicted samples. Use `zero_division` parameter to control this behavior.\n",
      "  _warn_prf(average, modifier, msg_start, len(result))\n",
      "C:\\Users\\mitra\\anaconda3\\lib\\site-packages\\sklearn\\metrics\\_classification.py:1318: UndefinedMetricWarning: Precision is ill-defined and being set to 0.0 due to no predicted samples. Use `zero_division` parameter to control this behavior.\n",
      "  _warn_prf(average, modifier, msg_start, len(result))\n",
      "C:\\Users\\mitra\\anaconda3\\lib\\site-packages\\sklearn\\metrics\\_classification.py:1318: UndefinedMetricWarning: Precision is ill-defined and being set to 0.0 due to no predicted samples. Use `zero_division` parameter to control this behavior.\n",
      "  _warn_prf(average, modifier, msg_start, len(result))\n"
     ]
    }
   ],
   "source": [
    "X = data_balanced_1_4.drop(columns=[\"loan_status\"])\n",
    "y = data_balanced_1_4['loan_status']\n",
    "\n",
    "X_train, X_test, y_train, y_test = train_test_split(X, y, test_size=0.2, random_state=42)\n",
    "\n",
    "rf_classifier = LogisticRegression(random_state=40)\n",
    "rf_classifier.fit(X_train, y_train)\n",
    "\n",
    "y_probs = rf_classifier.predict_proba(X_test)[:, 1]\n",
    "\n",
    "threshold_range = np.arange(0.1, 1.1, 0.1)\n",
    "results = {}\n",
    "\n",
    "for threshold in threshold_range:\n",
    "    y_pred_threshold = (y_probs >= threshold).astype(int)  # Apply threshold to probabilities\n",
    "    \n",
    "    precision = precision_score(y_test, y_pred_threshold)\n",
    "    recall = recall_score(y_test, y_pred_threshold)\n",
    "    f1 = f1_score(y_test, y_pred_threshold)\n",
    "    \n",
    "    # Calculate Precision-Recall AUC\n",
    "    precision_vals, recall_vals, _ = precision_recall_curve(y_test, y_probs)\n",
    "    pr_auc = auc(recall_vals, precision_vals)\n",
    "    \n",
    "    # Store the results for this threshold\n",
    "    results[threshold] = {\n",
    "        'Threshold':threshold,\n",
    "        'Precision': precision,\n",
    "        'Recall': recall,\n",
    "        'F1 Score': f1,\n",
    "        'PR AUC': pr_auc\n",
    "    }"
   ]
  },
  {
   "cell_type": "code",
   "execution_count": 23,
   "id": "57a8f293",
   "metadata": {},
   "outputs": [
    {
     "name": "stdout",
     "output_type": "stream",
     "text": [
      "DataFrame exported to 'C:\\Users\\mitra\\OneDrive\\Desktop\\IMBALACE TRATEMENT\\OVERSAMPLING TECHNIQUE\\over_output_1_4.xlsx'\n"
     ]
    }
   ],
   "source": [
    "file_path = (r\"C:\\Users\\mitra\\OneDrive\\Desktop\\IMBALACE TRATEMENT\\OVERSAMPLING TECHNIQUE\\over_output_1_4.xlsx\")\n",
    "df_results=pd.DataFrame.from_dict(results, orient='index')\n",
    "\n",
    "# Export to Excel\n",
    "df_results.to_excel(file_path, index=False)\n",
    "print(f\"DataFrame exported to '{file_path}'\")"
   ]
  },
  {
   "cell_type": "markdown",
   "id": "c8e2d4fa",
   "metadata": {},
   "source": [
    "### <font color=\"orange\">RATIO=1:5<font color/>"
   ]
  },
  {
   "cell_type": "code",
   "execution_count": 24,
   "id": "29d3875c",
   "metadata": {},
   "outputs": [
    {
     "name": "stdout",
     "output_type": "stream",
     "text": [
      "0    25473\n",
      "1     5094\n",
      "Name: loan_status, dtype: int64\n"
     ]
    }
   ],
   "source": [
    "ratio=5\n",
    "# Calculate the new size for the minority class\n",
    "minority_size_ratio = len(data_majority) // ratio\n",
    "\n",
    "# Oversample the minority class\n",
    "data_minority_oversampled_ratio = resample(data_minority, \n",
    "                                            replace=True,      # Sample with replacement\n",
    "                                            n_samples=minority_size_ratio,  # selected ratio\n",
    "                                            random_state=42) \n",
    "\n",
    "# Combine the oversampled minority class with the majority class\n",
    "data_balanced_over = pd.concat([data_majority, data_minority_oversampled_ratio])\n",
    "\n",
    "# Shuffle the dataset to mix majority and minority examples\n",
    "data_balanced_over = data_balanced_over.sample(frac=1, random_state=42).reset_index(drop=True)\n",
    "\n",
    "# Checking the new class distribution\n",
    "print(data_balanced_over['loan_status'].value_counts())"
   ]
  },
  {
   "cell_type": "code",
   "execution_count": 25,
   "id": "f1cd6671",
   "metadata": {},
   "outputs": [],
   "source": [
    "data_balanced_1_5=data_balanced_over.copy()"
   ]
  },
  {
   "cell_type": "code",
   "execution_count": 26,
   "id": "c99afb3e",
   "metadata": {},
   "outputs": [
    {
     "name": "stderr",
     "output_type": "stream",
     "text": [
      "C:\\Users\\mitra\\anaconda3\\lib\\site-packages\\sklearn\\metrics\\_classification.py:1318: UndefinedMetricWarning: Precision is ill-defined and being set to 0.0 due to no predicted samples. Use `zero_division` parameter to control this behavior.\n",
      "  _warn_prf(average, modifier, msg_start, len(result))\n",
      "C:\\Users\\mitra\\anaconda3\\lib\\site-packages\\sklearn\\metrics\\_classification.py:1318: UndefinedMetricWarning: Precision is ill-defined and being set to 0.0 due to no predicted samples. Use `zero_division` parameter to control this behavior.\n",
      "  _warn_prf(average, modifier, msg_start, len(result))\n",
      "C:\\Users\\mitra\\anaconda3\\lib\\site-packages\\sklearn\\metrics\\_classification.py:1318: UndefinedMetricWarning: Precision is ill-defined and being set to 0.0 due to no predicted samples. Use `zero_division` parameter to control this behavior.\n",
      "  _warn_prf(average, modifier, msg_start, len(result))\n",
      "C:\\Users\\mitra\\anaconda3\\lib\\site-packages\\sklearn\\metrics\\_classification.py:1318: UndefinedMetricWarning: Precision is ill-defined and being set to 0.0 due to no predicted samples. Use `zero_division` parameter to control this behavior.\n",
      "  _warn_prf(average, modifier, msg_start, len(result))\n",
      "C:\\Users\\mitra\\anaconda3\\lib\\site-packages\\sklearn\\metrics\\_classification.py:1318: UndefinedMetricWarning: Precision is ill-defined and being set to 0.0 due to no predicted samples. Use `zero_division` parameter to control this behavior.\n",
      "  _warn_prf(average, modifier, msg_start, len(result))\n",
      "C:\\Users\\mitra\\anaconda3\\lib\\site-packages\\sklearn\\metrics\\_classification.py:1318: UndefinedMetricWarning: Precision is ill-defined and being set to 0.0 due to no predicted samples. Use `zero_division` parameter to control this behavior.\n",
      "  _warn_prf(average, modifier, msg_start, len(result))\n"
     ]
    }
   ],
   "source": [
    "X = data_balanced_1_5.drop(columns=[\"loan_status\"])\n",
    "y = data_balanced_1_5['loan_status']\n",
    "\n",
    "X_train, X_test, y_train, y_test = train_test_split(X, y, test_size=0.2, random_state=42)\n",
    "\n",
    "rf_classifier = LogisticRegression(random_state=40)\n",
    "rf_classifier.fit(X_train, y_train)\n",
    "\n",
    "y_probs = rf_classifier.predict_proba(X_test)[:, 1]\n",
    "\n",
    "threshold_range = np.arange(0.1, 1.1, 0.1)\n",
    "results = {}\n",
    "\n",
    "for threshold in threshold_range:\n",
    "    y_pred_threshold = (y_probs >= threshold).astype(int)  # Apply threshold to probabilities\n",
    "    \n",
    "    precision = precision_score(y_test, y_pred_threshold)\n",
    "    recall = recall_score(y_test, y_pred_threshold)\n",
    "    f1 = f1_score(y_test, y_pred_threshold)\n",
    "    \n",
    "    # Calculate Precision-Recall AUC\n",
    "    precision_vals, recall_vals, _ = precision_recall_curve(y_test, y_probs)\n",
    "    pr_auc = auc(recall_vals, precision_vals)\n",
    "    \n",
    "    # Store the results for this threshold\n",
    "    results[threshold] = {\n",
    "        'Threshold':threshold,\n",
    "        'Precision': precision,\n",
    "        'Recall': recall,\n",
    "        'F1 Score': f1,\n",
    "        'PR AUC': pr_auc\n",
    "    }"
   ]
  },
  {
   "cell_type": "code",
   "execution_count": 27,
   "id": "e9fac677",
   "metadata": {},
   "outputs": [
    {
     "name": "stdout",
     "output_type": "stream",
     "text": [
      "DataFrame exported to 'C:\\Users\\mitra\\OneDrive\\Desktop\\IMBALACE TRATEMENT\\OVERSAMPLING TECHNIQUE\\over_output_1_5.xlsx'\n"
     ]
    }
   ],
   "source": [
    "file_path = (r\"C:\\Users\\mitra\\OneDrive\\Desktop\\IMBALACE TRATEMENT\\OVERSAMPLING TECHNIQUE\\over_output_1_5.xlsx\")\n",
    "df_results=pd.DataFrame.from_dict(results, orient='index')\n",
    "\n",
    "# Export to Excel\n",
    "df_results.to_excel(file_path, index=False)\n",
    "print(f\"DataFrame exported to '{file_path}'\")"
   ]
  },
  {
   "cell_type": "code",
   "execution_count": null,
   "id": "67b8e881",
   "metadata": {},
   "outputs": [],
   "source": []
  }
 ],
 "metadata": {
  "kernelspec": {
   "display_name": "Python 3 (ipykernel)",
   "language": "python",
   "name": "python3"
  },
  "language_info": {
   "codemirror_mode": {
    "name": "ipython",
    "version": 3
   },
   "file_extension": ".py",
   "mimetype": "text/x-python",
   "name": "python",
   "nbconvert_exporter": "python",
   "pygments_lexer": "ipython3",
   "version": "3.9.13"
  }
 },
 "nbformat": 4,
 "nbformat_minor": 5
}
