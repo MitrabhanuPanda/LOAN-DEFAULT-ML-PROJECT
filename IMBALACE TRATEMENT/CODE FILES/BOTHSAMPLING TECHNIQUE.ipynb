{
 "cells": [
  {
   "cell_type": "code",
   "execution_count": 1,
   "id": "432e6180",
   "metadata": {},
   "outputs": [],
   "source": [
    "import pandas as pd\n",
    "import numpy as np\n",
    "from sklearn.ensemble import RandomForestClassifier\n",
    "from sklearn.linear_model import LogisticRegression\n",
    "from sklearn.model_selection import train_test_split\n",
    "from sklearn.metrics import precision_recall_curve, precision_score, recall_score, f1_score, auc\n",
    "from sklearn.utils import resample"
   ]
  },
  {
   "cell_type": "code",
   "execution_count": 2,
   "id": "9566725b",
   "metadata": {},
   "outputs": [
    {
     "data": {
      "text/html": [
       "<div>\n",
       "<style scoped>\n",
       "    .dataframe tbody tr th:only-of-type {\n",
       "        vertical-align: middle;\n",
       "    }\n",
       "\n",
       "    .dataframe tbody tr th {\n",
       "        vertical-align: top;\n",
       "    }\n",
       "\n",
       "    .dataframe thead th {\n",
       "        text-align: right;\n",
       "    }\n",
       "</style>\n",
       "<table border=\"1\" class=\"dataframe\">\n",
       "  <thead>\n",
       "    <tr style=\"text-align: right;\">\n",
       "      <th></th>\n",
       "      <th>person_age</th>\n",
       "      <th>loan_percent_income</th>\n",
       "      <th>loan_int_rate</th>\n",
       "      <th>person_home_ownership</th>\n",
       "      <th>person_income</th>\n",
       "      <th>loan_status</th>\n",
       "    </tr>\n",
       "  </thead>\n",
       "  <tbody>\n",
       "    <tr>\n",
       "      <th>0</th>\n",
       "      <td>22</td>\n",
       "      <td>0.15</td>\n",
       "      <td>16.02</td>\n",
       "      <td>0</td>\n",
       "      <td>59000</td>\n",
       "      <td>1</td>\n",
       "    </tr>\n",
       "    <tr>\n",
       "      <th>1</th>\n",
       "      <td>21</td>\n",
       "      <td>0.10</td>\n",
       "      <td>11.14</td>\n",
       "      <td>2</td>\n",
       "      <td>9600</td>\n",
       "      <td>0</td>\n",
       "    </tr>\n",
       "    <tr>\n",
       "      <th>2</th>\n",
       "      <td>25</td>\n",
       "      <td>0.15</td>\n",
       "      <td>12.87</td>\n",
       "      <td>1</td>\n",
       "      <td>9600</td>\n",
       "      <td>1</td>\n",
       "    </tr>\n",
       "    <tr>\n",
       "      <th>3</th>\n",
       "      <td>23</td>\n",
       "      <td>0.15</td>\n",
       "      <td>15.23</td>\n",
       "      <td>0</td>\n",
       "      <td>65500</td>\n",
       "      <td>1</td>\n",
       "    </tr>\n",
       "    <tr>\n",
       "      <th>4</th>\n",
       "      <td>24</td>\n",
       "      <td>0.15</td>\n",
       "      <td>14.27</td>\n",
       "      <td>0</td>\n",
       "      <td>54400</td>\n",
       "      <td>1</td>\n",
       "    </tr>\n",
       "  </tbody>\n",
       "</table>\n",
       "</div>"
      ],
      "text/plain": [
       "   person_age  loan_percent_income  loan_int_rate  person_home_ownership  \\\n",
       "0          22                 0.15          16.02                      0   \n",
       "1          21                 0.10          11.14                      2   \n",
       "2          25                 0.15          12.87                      1   \n",
       "3          23                 0.15          15.23                      0   \n",
       "4          24                 0.15          14.27                      0   \n",
       "\n",
       "   person_income  loan_status  \n",
       "0          59000            1  \n",
       "1           9600            0  \n",
       "2           9600            1  \n",
       "3          65500            1  \n",
       "4          54400            1  "
      ]
     },
     "execution_count": 2,
     "metadata": {},
     "output_type": "execute_result"
    }
   ],
   "source": [
    "df=pd.read_csv(r\"D:\\DV ANALYTIC\\TOPICS\\4. DATA MINING\\ML PROJECT\\1. BANKING\\Bank Domain\\final_data.csv\")\n",
    "df.head()"
   ]
  },
  {
   "cell_type": "code",
   "execution_count": 3,
   "id": "e7253ea0",
   "metadata": {},
   "outputs": [
    {
     "data": {
      "text/plain": [
       "0    0.781836\n",
       "1    0.218164\n",
       "Name: loan_status, dtype: float64"
      ]
     },
     "execution_count": 3,
     "metadata": {},
     "output_type": "execute_result"
    }
   ],
   "source": [
    "df[\"loan_status\"].value_counts(normalize=True)"
   ]
  },
  {
   "cell_type": "code",
   "execution_count": 4,
   "id": "55248e99",
   "metadata": {},
   "outputs": [],
   "source": [
    "data_majority = df[df[\"loan_status\"] == 0]\n",
    "data_minority = df[df[\"loan_status\"] == 1]"
   ]
  },
  {
   "cell_type": "markdown",
   "id": "a29d07fb",
   "metadata": {},
   "source": [
    "### <font color=\"orange\">RATIO=1:1<font color/>"
   ]
  },
  {
   "cell_type": "code",
   "execution_count": 5,
   "id": "f09ed6f9",
   "metadata": {},
   "outputs": [
    {
     "name": "stdout",
     "output_type": "stream",
     "text": [
      "0    7108\n",
      "1    7108\n",
      "Name: loan_status, dtype: int64\n"
     ]
    }
   ],
   "source": [
    "ratio=1\n",
    "\n",
    "# Step 1: Undersample the majority class (reduce it to four times the size of the minority class)\n",
    "majority_size_ratio = len(data_minority) * ratio\n",
    "\n",
    "# Ensure we do not sample more than the available data\n",
    "majority_size_ratio = min(majority_size_ratio, len(data_majority))\n",
    "\n",
    "data_majority_undersampled_ratio = resample(data_majority, \n",
    "                                             replace=False,    # Sample without replacement\n",
    "                                             n_samples=majority_size_ratio,  #\n",
    "                                             random_state=42) \n",
    "\n",
    "# Step 2: Oversample the minority class (increase it to one-quarter the size of the undersampled majority class)\n",
    "minority_size_ratio = len(data_majority_undersampled_ratio) // ratio\n",
    "data_minority_oversampled_ratio = resample(data_minority, \n",
    "                                            replace=True,     # Sample with replacement\n",
    "                                            n_samples=minority_size_ratio,\n",
    "                                            random_state=42)  \n",
    "\n",
    "                                           \n",
    "# Combine the undersampled majority class with the oversampled minority class\n",
    "data_balanced_ratio_both = pd.concat([data_majority_undersampled_ratio, data_minority_oversampled_ratio])\n",
    "\n",
    "# Shuffle the dataset to mix majority and minority examples\n",
    "data_balanced_ratio_both = data_balanced_ratio_both.sample(frac=1, random_state=42).reset_index(drop=True)\n",
    "\n",
    "# Checking the new class distribution\n",
    "print(data_balanced_ratio_both['loan_status'].value_counts())"
   ]
  },
  {
   "cell_type": "code",
   "execution_count": 6,
   "id": "76f05b2d",
   "metadata": {},
   "outputs": [],
   "source": [
    "data_balanced_1_1=data_balanced_ratio_both.copy()"
   ]
  },
  {
   "cell_type": "code",
   "execution_count": 7,
   "id": "51e2cbc4",
   "metadata": {},
   "outputs": [
    {
     "name": "stderr",
     "output_type": "stream",
     "text": [
      "C:\\Users\\mitra\\anaconda3\\lib\\site-packages\\sklearn\\metrics\\_classification.py:1318: UndefinedMetricWarning: Precision is ill-defined and being set to 0.0 due to no predicted samples. Use `zero_division` parameter to control this behavior.\n",
      "  _warn_prf(average, modifier, msg_start, len(result))\n"
     ]
    }
   ],
   "source": [
    "X = data_balanced_1_1.drop(columns=[\"loan_status\"])\n",
    "y = data_balanced_1_1['loan_status']\n",
    "\n",
    "X_train, X_test, y_train, y_test = train_test_split(X, y, test_size=0.2, random_state=42)\n",
    "\n",
    "rf_classifier = LogisticRegression(random_state=40)\n",
    "rf_classifier.fit(X_train, y_train)\n",
    "\n",
    "y_probs = rf_classifier.predict_proba(X_test)[:, 1]\n",
    "\n",
    "threshold_range = np.arange(0.1, 1.1, 0.1)\n",
    "results = {}\n",
    "\n",
    "for threshold in threshold_range:\n",
    "    y_pred_threshold = (y_probs >= threshold).astype(int)  # Apply threshold to probabilities\n",
    "    \n",
    "    precision = precision_score(y_test, y_pred_threshold)\n",
    "    recall = recall_score(y_test, y_pred_threshold)\n",
    "    f1 = f1_score(y_test, y_pred_threshold)\n",
    "    \n",
    "    # Calculate Precision-Recall AUC\n",
    "    precision_vals, recall_vals, _ = precision_recall_curve(y_test, y_probs)\n",
    "    pr_auc = auc(recall_vals, precision_vals)\n",
    "    \n",
    "    # Store the results for this threshold\n",
    "    results[threshold] = {\n",
    "        'Threshold':threshold,\n",
    "        'Precision': precision,\n",
    "        'Recall': recall,\n",
    "        'F1 Score': f1,\n",
    "        'PR AUC': pr_auc\n",
    "    }\n"
   ]
  },
  {
   "cell_type": "code",
   "execution_count": 8,
   "id": "d30db08c",
   "metadata": {},
   "outputs": [
    {
     "name": "stdout",
     "output_type": "stream",
     "text": [
      "DataFrame exported to 'C:\\Users\\mitra\\OneDrive\\Desktop\\IMBALACE TRATEMENT\\BOTHSAMPLING TECHNIQUE\\bothsam_1_1.xlsx'\n"
     ]
    }
   ],
   "source": [
    "file_path = (r\"C:\\Users\\mitra\\OneDrive\\Desktop\\IMBALACE TRATEMENT\\BOTHSAMPLING TECHNIQUE\\bothsam_1_1.xlsx\")\n",
    "df_results=pd.DataFrame.from_dict(results, orient='index')\n",
    "\n",
    "# Export to Excel\n",
    "df_results.to_excel(file_path, index=False)\n",
    "print(f\"DataFrame exported to '{file_path}'\")"
   ]
  },
  {
   "cell_type": "markdown",
   "id": "c6c175f6",
   "metadata": {},
   "source": [
    "### <font color=\"orange\">RATIO=1:2<font color/>"
   ]
  },
  {
   "cell_type": "code",
   "execution_count": 9,
   "id": "81cff06c",
   "metadata": {},
   "outputs": [
    {
     "name": "stdout",
     "output_type": "stream",
     "text": [
      "0    14216\n",
      "1     7108\n",
      "Name: loan_status, dtype: int64\n"
     ]
    }
   ],
   "source": [
    "ratio=2\n",
    "\n",
    "# Step 1: Undersample the majority class (reduce it to four times the size of the minority class)\n",
    "majority_size_ratio = len(data_minority) * ratio\n",
    "\n",
    "# Ensure we do not sample more than the available data\n",
    "majority_size_ratio = min(majority_size_ratio, len(data_majority))\n",
    "\n",
    "data_majority_undersampled_ratio = resample(data_majority, \n",
    "                                             replace=False,    # Sample without replacement\n",
    "                                             n_samples=majority_size_ratio,  #\n",
    "                                             random_state=42) \n",
    "\n",
    "# Step 2: Oversample the minority class (increase it to one-quarter the size of the undersampled majority class)\n",
    "minority_size_ratio = len(data_majority_undersampled_ratio) // ratio\n",
    "data_minority_oversampled_ratio = resample(data_minority, \n",
    "                                            replace=True,     # Sample with replacement\n",
    "                                            n_samples=minority_size_ratio,\n",
    "                                            random_state=42)  \n",
    "\n",
    "                                           \n",
    "# Combine the undersampled majority class with the oversampled minority class\n",
    "data_balanced_ratio_both = pd.concat([data_majority_undersampled_ratio, data_minority_oversampled_ratio])\n",
    "\n",
    "# Shuffle the dataset to mix majority and minority examples\n",
    "data_balanced_ratio_both = data_balanced_ratio_both.sample(frac=1, random_state=42).reset_index(drop=True)\n",
    "\n",
    "# Checking the new class distribution\n",
    "print(data_balanced_ratio_both['loan_status'].value_counts())"
   ]
  },
  {
   "cell_type": "code",
   "execution_count": 10,
   "id": "f3a7be78",
   "metadata": {},
   "outputs": [],
   "source": [
    "data_balanced_1_2=data_balanced_ratio_both.copy()"
   ]
  },
  {
   "cell_type": "code",
   "execution_count": 11,
   "id": "3d958bdb",
   "metadata": {},
   "outputs": [
    {
     "name": "stderr",
     "output_type": "stream",
     "text": [
      "C:\\Users\\mitra\\anaconda3\\lib\\site-packages\\sklearn\\metrics\\_classification.py:1318: UndefinedMetricWarning: Precision is ill-defined and being set to 0.0 due to no predicted samples. Use `zero_division` parameter to control this behavior.\n",
      "  _warn_prf(average, modifier, msg_start, len(result))\n"
     ]
    }
   ],
   "source": [
    "X = data_balanced_1_2.drop(columns=[\"loan_status\"])\n",
    "y = data_balanced_1_2['loan_status']\n",
    "\n",
    "X_train, X_test, y_train, y_test = train_test_split(X, y, test_size=0.2, random_state=42)\n",
    "\n",
    "rf_classifier = LogisticRegression(random_state=40)\n",
    "rf_classifier.fit(X_train, y_train)\n",
    "\n",
    "y_probs = rf_classifier.predict_proba(X_test)[:, 1]\n",
    "\n",
    "threshold_range = np.arange(0.1, 1.1, 0.1)\n",
    "results = {}\n",
    "\n",
    "for threshold in threshold_range:\n",
    "    y_pred_threshold = (y_probs >= threshold).astype(int)  # Apply threshold to probabilities\n",
    "    \n",
    "    precision = precision_score(y_test, y_pred_threshold)\n",
    "    recall = recall_score(y_test, y_pred_threshold)\n",
    "    f1 = f1_score(y_test, y_pred_threshold)\n",
    "    \n",
    "    # Calculate Precision-Recall AUC\n",
    "    precision_vals, recall_vals, _ = precision_recall_curve(y_test, y_probs)\n",
    "    pr_auc = auc(recall_vals, precision_vals)\n",
    "    \n",
    "    # Store the results for this threshold\n",
    "    results[threshold] = {\n",
    "        'Threshold':threshold,\n",
    "        'Precision': precision,\n",
    "        'Recall': recall,\n",
    "        'F1 Score': f1,\n",
    "        'PR AUC': pr_auc\n",
    "    }\n"
   ]
  },
  {
   "cell_type": "code",
   "execution_count": 12,
   "id": "1950dcce",
   "metadata": {},
   "outputs": [
    {
     "name": "stdout",
     "output_type": "stream",
     "text": [
      "DataFrame exported to 'C:\\Users\\mitra\\OneDrive\\Desktop\\IMBALACE TRATEMENT\\BOTHSAMPLING TECHNIQUE\\bothsam_1_2.xlsx'\n"
     ]
    }
   ],
   "source": [
    "file_path = (r\"C:\\Users\\mitra\\OneDrive\\Desktop\\IMBALACE TRATEMENT\\BOTHSAMPLING TECHNIQUE\\bothsam_1_2.xlsx\")\n",
    "df_results=pd.DataFrame.from_dict(results, orient='index')\n",
    "\n",
    "# Export to Excel\n",
    "df_results.to_excel(file_path, index=False)\n",
    "print(f\"DataFrame exported to '{file_path}'\")"
   ]
  },
  {
   "cell_type": "markdown",
   "id": "e40ea040",
   "metadata": {},
   "source": [
    "### <font color=\"orange\">RATIO=1:3<font color/>"
   ]
  },
  {
   "cell_type": "code",
   "execution_count": 13,
   "id": "06b62a7c",
   "metadata": {},
   "outputs": [
    {
     "name": "stdout",
     "output_type": "stream",
     "text": [
      "0    21324\n",
      "1     7108\n",
      "Name: loan_status, dtype: int64\n"
     ]
    }
   ],
   "source": [
    "ratio=3\n",
    "\n",
    "# Step 1: Undersample the majority class (reduce it to four times the size of the minority class)\n",
    "majority_size_ratio = len(data_minority) * ratio\n",
    "\n",
    "# Ensure we do not sample more than the available data\n",
    "majority_size_ratio = min(majority_size_ratio, len(data_majority))\n",
    "\n",
    "data_majority_undersampled_ratio = resample(data_majority, \n",
    "                                             replace=False,    # Sample without replacement\n",
    "                                             n_samples=majority_size_ratio,  #\n",
    "                                             random_state=42) \n",
    "\n",
    "# Step 2: Oversample the minority class (increase it to one-quarter the size of the undersampled majority class)\n",
    "minority_size_ratio = len(data_majority_undersampled_ratio) // ratio\n",
    "data_minority_oversampled_ratio = resample(data_minority, \n",
    "                                            replace=True,     # Sample with replacement\n",
    "                                            n_samples=minority_size_ratio,\n",
    "                                            random_state=42)  \n",
    "\n",
    "                                           \n",
    "# Combine the undersampled majority class with the oversampled minority class\n",
    "data_balanced_ratio_both = pd.concat([data_majority_undersampled_ratio, data_minority_oversampled_ratio])\n",
    "\n",
    "# Shuffle the dataset to mix majority and minority examples\n",
    "data_balanced_ratio_both = data_balanced_ratio_both.sample(frac=1, random_state=42).reset_index(drop=True)\n",
    "\n",
    "# Checking the new class distribution\n",
    "print(data_balanced_ratio_both['loan_status'].value_counts())"
   ]
  },
  {
   "cell_type": "code",
   "execution_count": 14,
   "id": "a043e200",
   "metadata": {},
   "outputs": [],
   "source": [
    "data_balanced_1_3=data_balanced_ratio_both.copy()"
   ]
  },
  {
   "cell_type": "code",
   "execution_count": 15,
   "id": "4a535e18",
   "metadata": {},
   "outputs": [
    {
     "name": "stderr",
     "output_type": "stream",
     "text": [
      "C:\\Users\\mitra\\anaconda3\\lib\\site-packages\\sklearn\\metrics\\_classification.py:1318: UndefinedMetricWarning: Precision is ill-defined and being set to 0.0 due to no predicted samples. Use `zero_division` parameter to control this behavior.\n",
      "  _warn_prf(average, modifier, msg_start, len(result))\n"
     ]
    }
   ],
   "source": [
    "X = data_balanced_1_3.drop(columns=[\"loan_status\"])\n",
    "y = data_balanced_1_3['loan_status']\n",
    "\n",
    "X_train, X_test, y_train, y_test = train_test_split(X, y, test_size=0.2, random_state=42)\n",
    "\n",
    "rf_classifier = LogisticRegression(random_state=40)\n",
    "rf_classifier.fit(X_train, y_train)\n",
    "\n",
    "y_probs = rf_classifier.predict_proba(X_test)[:, 1]\n",
    "\n",
    "threshold_range = np.arange(0.1, 1.1, 0.1)\n",
    "results = {}\n",
    "\n",
    "for threshold in threshold_range:\n",
    "    y_pred_threshold = (y_probs >= threshold).astype(int)  # Apply threshold to probabilities\n",
    "    \n",
    "    precision = precision_score(y_test, y_pred_threshold)\n",
    "    recall = recall_score(y_test, y_pred_threshold)\n",
    "    f1 = f1_score(y_test, y_pred_threshold)\n",
    "    \n",
    "    # Calculate Precision-Recall AUC\n",
    "    precision_vals, recall_vals, _ = precision_recall_curve(y_test, y_probs)\n",
    "    pr_auc = auc(recall_vals, precision_vals)\n",
    "    \n",
    "    # Store the results for this threshold\n",
    "    results[threshold] = {\n",
    "        'Threshold':threshold,\n",
    "        'Precision': precision,\n",
    "        'Recall': recall,\n",
    "        'F1 Score': f1,\n",
    "        'PR AUC': pr_auc\n",
    "    }"
   ]
  },
  {
   "cell_type": "code",
   "execution_count": 16,
   "id": "bc222f5f",
   "metadata": {},
   "outputs": [
    {
     "name": "stdout",
     "output_type": "stream",
     "text": [
      "DataFrame exported to 'C:\\Users\\mitra\\OneDrive\\Desktop\\IMBALACE TRATEMENT\\BOTHSAMPLING TECHNIQUE\\bothsam_1_3.xlsx'\n"
     ]
    }
   ],
   "source": [
    "file_path = (r\"C:\\Users\\mitra\\OneDrive\\Desktop\\IMBALACE TRATEMENT\\BOTHSAMPLING TECHNIQUE\\bothsam_1_3.xlsx\")\n",
    "df_results=pd.DataFrame.from_dict(results, orient='index')\n",
    "\n",
    "# Export to Excel\n",
    "df_results.to_excel(file_path, index=False)\n",
    "print(f\"DataFrame exported to '{file_path}'\")"
   ]
  },
  {
   "cell_type": "markdown",
   "id": "94bb883b",
   "metadata": {},
   "source": [
    "### <font color=\"orange\">RATIO=1:4<font color/>"
   ]
  },
  {
   "cell_type": "code",
   "execution_count": 17,
   "id": "213a2972",
   "metadata": {},
   "outputs": [
    {
     "name": "stdout",
     "output_type": "stream",
     "text": [
      "0    25473\n",
      "1     6368\n",
      "Name: loan_status, dtype: int64\n"
     ]
    }
   ],
   "source": [
    "ratio=4\n",
    "\n",
    "# Step 1: Undersample the majority class (reduce it to four times the size of the minority class)\n",
    "majority_size_ratio = len(data_minority) * ratio\n",
    "\n",
    "# Ensure we do not sample more than the available data\n",
    "majority_size_ratio = min(majority_size_ratio, len(data_majority))\n",
    "\n",
    "data_majority_undersampled_ratio = resample(data_majority, \n",
    "                                             replace=False,    # Sample without replacement\n",
    "                                             n_samples=majority_size_ratio,  #\n",
    "                                             random_state=42) \n",
    "\n",
    "# Step 2: Oversample the minority class (increase it to one-quarter the size of the undersampled majority class)\n",
    "minority_size_ratio = len(data_majority_undersampled_ratio) // ratio\n",
    "data_minority_oversampled_ratio = resample(data_minority, \n",
    "                                            replace=True,     # Sample with replacement\n",
    "                                            n_samples=minority_size_ratio,\n",
    "                                            random_state=42)  \n",
    "\n",
    "                                           \n",
    "# Combine the undersampled majority class with the oversampled minority class\n",
    "data_balanced_ratio_both = pd.concat([data_majority_undersampled_ratio, data_minority_oversampled_ratio])\n",
    "\n",
    "# Shuffle the dataset to mix majority and minority examples\n",
    "data_balanced_ratio_both = data_balanced_ratio_both.sample(frac=1, random_state=42).reset_index(drop=True)\n",
    "\n",
    "# Checking the new class distribution\n",
    "print(data_balanced_ratio_both['loan_status'].value_counts())"
   ]
  },
  {
   "cell_type": "code",
   "execution_count": 18,
   "id": "9a707d86",
   "metadata": {},
   "outputs": [],
   "source": [
    "data_balanced_1_4=data_balanced_ratio_both.copy()"
   ]
  },
  {
   "cell_type": "code",
   "execution_count": 19,
   "id": "c968f302",
   "metadata": {},
   "outputs": [
    {
     "name": "stderr",
     "output_type": "stream",
     "text": [
      "C:\\Users\\mitra\\anaconda3\\lib\\site-packages\\sklearn\\metrics\\_classification.py:1318: UndefinedMetricWarning: Precision is ill-defined and being set to 0.0 due to no predicted samples. Use `zero_division` parameter to control this behavior.\n",
      "  _warn_prf(average, modifier, msg_start, len(result))\n",
      "C:\\Users\\mitra\\anaconda3\\lib\\site-packages\\sklearn\\metrics\\_classification.py:1318: UndefinedMetricWarning: Precision is ill-defined and being set to 0.0 due to no predicted samples. Use `zero_division` parameter to control this behavior.\n",
      "  _warn_prf(average, modifier, msg_start, len(result))\n",
      "C:\\Users\\mitra\\anaconda3\\lib\\site-packages\\sklearn\\metrics\\_classification.py:1318: UndefinedMetricWarning: Precision is ill-defined and being set to 0.0 due to no predicted samples. Use `zero_division` parameter to control this behavior.\n",
      "  _warn_prf(average, modifier, msg_start, len(result))\n",
      "C:\\Users\\mitra\\anaconda3\\lib\\site-packages\\sklearn\\metrics\\_classification.py:1318: UndefinedMetricWarning: Precision is ill-defined and being set to 0.0 due to no predicted samples. Use `zero_division` parameter to control this behavior.\n",
      "  _warn_prf(average, modifier, msg_start, len(result))\n",
      "C:\\Users\\mitra\\anaconda3\\lib\\site-packages\\sklearn\\metrics\\_classification.py:1318: UndefinedMetricWarning: Precision is ill-defined and being set to 0.0 due to no predicted samples. Use `zero_division` parameter to control this behavior.\n",
      "  _warn_prf(average, modifier, msg_start, len(result))\n",
      "C:\\Users\\mitra\\anaconda3\\lib\\site-packages\\sklearn\\metrics\\_classification.py:1318: UndefinedMetricWarning: Precision is ill-defined and being set to 0.0 due to no predicted samples. Use `zero_division` parameter to control this behavior.\n",
      "  _warn_prf(average, modifier, msg_start, len(result))\n"
     ]
    }
   ],
   "source": [
    "X = data_balanced_1_4.drop(columns=[\"loan_status\"])\n",
    "y = data_balanced_1_4['loan_status']\n",
    "\n",
    "X_train, X_test, y_train, y_test = train_test_split(X, y, test_size=0.2, random_state=42)\n",
    "\n",
    "rf_classifier = LogisticRegression(random_state=40)\n",
    "rf_classifier.fit(X_train, y_train)\n",
    "\n",
    "y_probs = rf_classifier.predict_proba(X_test)[:, 1]\n",
    "\n",
    "threshold_range = np.arange(0.1, 1.1, 0.1)\n",
    "results = {}\n",
    "\n",
    "for threshold in threshold_range:\n",
    "    y_pred_threshold = (y_probs >= threshold).astype(int)  # Apply threshold to probabilities\n",
    "    \n",
    "    precision = precision_score(y_test, y_pred_threshold)\n",
    "    recall = recall_score(y_test, y_pred_threshold)\n",
    "    f1 = f1_score(y_test, y_pred_threshold)\n",
    "    \n",
    "    # Calculate Precision-Recall AUC\n",
    "    precision_vals, recall_vals, _ = precision_recall_curve(y_test, y_probs)\n",
    "    pr_auc = auc(recall_vals, precision_vals)\n",
    "    \n",
    "    # Store the results for this threshold\n",
    "    results[threshold] = {\n",
    "        'Threshold':threshold,\n",
    "        'Precision': precision,\n",
    "        'Recall': recall,\n",
    "        'F1 Score': f1,\n",
    "        'PR AUC': pr_auc\n",
    "    }"
   ]
  },
  {
   "cell_type": "code",
   "execution_count": 20,
   "id": "900f7376",
   "metadata": {},
   "outputs": [
    {
     "name": "stdout",
     "output_type": "stream",
     "text": [
      "DataFrame exported to 'C:\\Users\\mitra\\OneDrive\\Desktop\\IMBALACE TRATEMENT\\BOTHSAMPLING TECHNIQUE\\bothsam_1_4.xlsx'\n"
     ]
    }
   ],
   "source": [
    "file_path = (r\"C:\\Users\\mitra\\OneDrive\\Desktop\\IMBALACE TRATEMENT\\BOTHSAMPLING TECHNIQUE\\bothsam_1_4.xlsx\")\n",
    "df_results=pd.DataFrame.from_dict(results, orient='index')\n",
    "\n",
    "# Export to Excel\n",
    "df_results.to_excel(file_path, index=False)\n",
    "print(f\"DataFrame exported to '{file_path}'\")"
   ]
  },
  {
   "cell_type": "markdown",
   "id": "b705301e",
   "metadata": {},
   "source": [
    "### <font color=\"orange\">RATIO=1:5<font color/>"
   ]
  },
  {
   "cell_type": "code",
   "execution_count": 21,
   "id": "f8e5a7c7",
   "metadata": {},
   "outputs": [
    {
     "name": "stdout",
     "output_type": "stream",
     "text": [
      "0    25473\n",
      "1     5094\n",
      "Name: loan_status, dtype: int64\n"
     ]
    }
   ],
   "source": [
    "ratio=5\n",
    "\n",
    "# Step 1: Undersample the majority class (reduce it to four times the size of the minority class)\n",
    "majority_size_ratio = len(data_minority) * ratio\n",
    "\n",
    "# Ensure we do not sample more than the available data\n",
    "majority_size_ratio = min(majority_size_ratio, len(data_majority))\n",
    "\n",
    "data_majority_undersampled_ratio = resample(data_majority, \n",
    "                                             replace=False,    # Sample without replacement\n",
    "                                             n_samples=majority_size_ratio,  #\n",
    "                                             random_state=42) \n",
    "\n",
    "# Step 2: Oversample the minority class (increase it to one-quarter the size of the undersampled majority class)\n",
    "minority_size_ratio = len(data_majority_undersampled_ratio) // ratio\n",
    "data_minority_oversampled_ratio = resample(data_minority, \n",
    "                                            replace=True,     # Sample with replacement\n",
    "                                            n_samples=minority_size_ratio,\n",
    "                                            random_state=42)  \n",
    "\n",
    "                                           \n",
    "# Combine the undersampled majority class with the oversampled minority class\n",
    "data_balanced_ratio_both = pd.concat([data_majority_undersampled_ratio, data_minority_oversampled_ratio])\n",
    "\n",
    "# Shuffle the dataset to mix majority and minority examples\n",
    "data_balanced_ratio_both = data_balanced_ratio_both.sample(frac=1, random_state=42).reset_index(drop=True)\n",
    "\n",
    "# Checking the new class distribution\n",
    "print(data_balanced_ratio_both['loan_status'].value_counts())"
   ]
  },
  {
   "cell_type": "code",
   "execution_count": 22,
   "id": "9d88680a",
   "metadata": {},
   "outputs": [],
   "source": [
    "data_balanced_1_5=data_balanced_ratio_both.copy()"
   ]
  },
  {
   "cell_type": "code",
   "execution_count": 23,
   "id": "0120e751",
   "metadata": {},
   "outputs": [
    {
     "name": "stderr",
     "output_type": "stream",
     "text": [
      "C:\\Users\\mitra\\anaconda3\\lib\\site-packages\\sklearn\\metrics\\_classification.py:1318: UndefinedMetricWarning: Precision is ill-defined and being set to 0.0 due to no predicted samples. Use `zero_division` parameter to control this behavior.\n",
      "  _warn_prf(average, modifier, msg_start, len(result))\n",
      "C:\\Users\\mitra\\anaconda3\\lib\\site-packages\\sklearn\\metrics\\_classification.py:1318: UndefinedMetricWarning: Precision is ill-defined and being set to 0.0 due to no predicted samples. Use `zero_division` parameter to control this behavior.\n",
      "  _warn_prf(average, modifier, msg_start, len(result))\n",
      "C:\\Users\\mitra\\anaconda3\\lib\\site-packages\\sklearn\\metrics\\_classification.py:1318: UndefinedMetricWarning: Precision is ill-defined and being set to 0.0 due to no predicted samples. Use `zero_division` parameter to control this behavior.\n",
      "  _warn_prf(average, modifier, msg_start, len(result))\n",
      "C:\\Users\\mitra\\anaconda3\\lib\\site-packages\\sklearn\\metrics\\_classification.py:1318: UndefinedMetricWarning: Precision is ill-defined and being set to 0.0 due to no predicted samples. Use `zero_division` parameter to control this behavior.\n",
      "  _warn_prf(average, modifier, msg_start, len(result))\n",
      "C:\\Users\\mitra\\anaconda3\\lib\\site-packages\\sklearn\\metrics\\_classification.py:1318: UndefinedMetricWarning: Precision is ill-defined and being set to 0.0 due to no predicted samples. Use `zero_division` parameter to control this behavior.\n",
      "  _warn_prf(average, modifier, msg_start, len(result))\n",
      "C:\\Users\\mitra\\anaconda3\\lib\\site-packages\\sklearn\\metrics\\_classification.py:1318: UndefinedMetricWarning: Precision is ill-defined and being set to 0.0 due to no predicted samples. Use `zero_division` parameter to control this behavior.\n",
      "  _warn_prf(average, modifier, msg_start, len(result))\n"
     ]
    }
   ],
   "source": [
    "X = data_balanced_1_5.drop(columns=[\"loan_status\"])\n",
    "y = data_balanced_1_5['loan_status']\n",
    "\n",
    "X_train, X_test, y_train, y_test = train_test_split(X, y, test_size=0.2, random_state=42)\n",
    "\n",
    "rf_classifier = LogisticRegression(random_state=40)\n",
    "rf_classifier.fit(X_train, y_train)\n",
    "\n",
    "y_probs = rf_classifier.predict_proba(X_test)[:, 1]\n",
    "\n",
    "threshold_range = np.arange(0.1, 1.1, 0.1)\n",
    "results = {}\n",
    "\n",
    "for threshold in threshold_range:\n",
    "    y_pred_threshold = (y_probs >= threshold).astype(int)  # Apply threshold to probabilities\n",
    "    \n",
    "    precision = precision_score(y_test, y_pred_threshold)\n",
    "    recall = recall_score(y_test, y_pred_threshold)\n",
    "    f1 = f1_score(y_test, y_pred_threshold)\n",
    "    \n",
    "    # Calculate Precision-Recall AUC\n",
    "    precision_vals, recall_vals, _ = precision_recall_curve(y_test, y_probs)\n",
    "    pr_auc = auc(recall_vals, precision_vals)\n",
    "    \n",
    "    # Store the results for this threshold\n",
    "    results[threshold] = {\n",
    "        'Threshold':threshold,\n",
    "        'Precision': precision,\n",
    "        'Recall': recall,\n",
    "        'F1 Score': f1,\n",
    "        'PR AUC': pr_auc\n",
    "    }"
   ]
  },
  {
   "cell_type": "code",
   "execution_count": 24,
   "id": "0bb39f31",
   "metadata": {},
   "outputs": [
    {
     "name": "stdout",
     "output_type": "stream",
     "text": [
      "DataFrame exported to 'C:\\Users\\mitra\\OneDrive\\Desktop\\IMBALACE TRATEMENT\\BOTHSAMPLING TECHNIQUE\\bothsam_1_5.xlsx'\n"
     ]
    }
   ],
   "source": [
    "file_path = (r\"C:\\Users\\mitra\\OneDrive\\Desktop\\IMBALACE TRATEMENT\\BOTHSAMPLING TECHNIQUE\\bothsam_1_5.xlsx\")\n",
    "df_results=pd.DataFrame.from_dict(results, orient='index')\n",
    "\n",
    "# Export to Excel\n",
    "df_results.to_excel(file_path, index=False)\n",
    "print(f\"DataFrame exported to '{file_path}'\")"
   ]
  },
  {
   "cell_type": "code",
   "execution_count": null,
   "id": "e0b2ceab",
   "metadata": {},
   "outputs": [],
   "source": []
  },
  {
   "cell_type": "code",
   "execution_count": null,
   "id": "ba90aa71",
   "metadata": {},
   "outputs": [],
   "source": []
  },
  {
   "cell_type": "code",
   "execution_count": null,
   "id": "eb8ba8d2",
   "metadata": {},
   "outputs": [],
   "source": []
  },
  {
   "cell_type": "code",
   "execution_count": null,
   "id": "23875c18",
   "metadata": {},
   "outputs": [],
   "source": []
  },
  {
   "cell_type": "code",
   "execution_count": null,
   "id": "ef14c7ba",
   "metadata": {},
   "outputs": [],
   "source": []
  },
  {
   "cell_type": "code",
   "execution_count": null,
   "id": "ba864f51",
   "metadata": {},
   "outputs": [],
   "source": []
  },
  {
   "cell_type": "code",
   "execution_count": null,
   "id": "087ad7a7",
   "metadata": {},
   "outputs": [],
   "source": []
  },
  {
   "cell_type": "code",
   "execution_count": null,
   "id": "d160cc95",
   "metadata": {},
   "outputs": [],
   "source": []
  },
  {
   "cell_type": "code",
   "execution_count": null,
   "id": "1167e762",
   "metadata": {},
   "outputs": [],
   "source": []
  },
  {
   "cell_type": "code",
   "execution_count": null,
   "id": "7c22d6e4",
   "metadata": {},
   "outputs": [],
   "source": []
  },
  {
   "cell_type": "code",
   "execution_count": null,
   "id": "d0adeb15",
   "metadata": {},
   "outputs": [],
   "source": []
  },
  {
   "cell_type": "code",
   "execution_count": null,
   "id": "8f6a3700",
   "metadata": {},
   "outputs": [],
   "source": []
  },
  {
   "cell_type": "code",
   "execution_count": null,
   "id": "a279ae13",
   "metadata": {},
   "outputs": [],
   "source": []
  },
  {
   "cell_type": "code",
   "execution_count": null,
   "id": "6b78ce47",
   "metadata": {},
   "outputs": [],
   "source": []
  },
  {
   "cell_type": "code",
   "execution_count": null,
   "id": "772cf81e",
   "metadata": {},
   "outputs": [],
   "source": []
  },
  {
   "cell_type": "code",
   "execution_count": null,
   "id": "e098d5ae",
   "metadata": {},
   "outputs": [],
   "source": []
  },
  {
   "cell_type": "code",
   "execution_count": null,
   "id": "012411c9",
   "metadata": {},
   "outputs": [],
   "source": []
  },
  {
   "cell_type": "code",
   "execution_count": null,
   "id": "3a95bc65",
   "metadata": {},
   "outputs": [],
   "source": []
  }
 ],
 "metadata": {
  "kernelspec": {
   "display_name": "Python 3 (ipykernel)",
   "language": "python",
   "name": "python3"
  },
  "language_info": {
   "codemirror_mode": {
    "name": "ipython",
    "version": 3
   },
   "file_extension": ".py",
   "mimetype": "text/x-python",
   "name": "python",
   "nbconvert_exporter": "python",
   "pygments_lexer": "ipython3",
   "version": "3.9.13"
  }
 },
 "nbformat": 4,
 "nbformat_minor": 5
}
